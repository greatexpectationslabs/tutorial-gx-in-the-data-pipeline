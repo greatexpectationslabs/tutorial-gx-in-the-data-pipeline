{
 "cells": [
  {
   "cell_type": "markdown",
   "id": "0",
   "metadata": {},
   "source": [
    "# Cookbook 1: Validate data during ingestion (happy path)"
   ]
  },
  {
   "cell_type": "markdown",
   "id": "1",
   "metadata": {},
   "source": [
    "This cookbook showcases a sample GX data validation workflow characteristic of data ingestion at the start of the data pipeline. Data is loaded into a Pandas dataframe, cleaned, validated, and then ingested into a Postgres database table.\n",
    "\n",
    "This cookbook explores the validation workflow first in a notebook setting, then embedded within an Airflow pipeline. Airflow pipelines are also referred to as directed acyclic graphs, or DAGs.\n",
    "\n",
    "This cookbook features a \"happy path\" scenario in which data passes validation and generates a successful pipeline run."
   ]
  },
  {
   "cell_type": "markdown",
   "id": "2",
   "metadata": {},
   "source": [
    "## Imports and constant definition"
   ]
  },
  {
   "cell_type": "markdown",
   "id": "16b2c56e-65f1-475b-9c79-2ce5f4dfdc22",
   "metadata": {},
   "source": [
    "This tutorial features the `great_expectations` library.\n",
    "\n",
    "The `tutorial_code` module contains helper functions used within this notebook and the associated Airflow pipeline.\n",
    "\n",
    "The `airflow_dags` submodule is included so that you can inspect the code used in the related Airflow DAG directly from this notebook."
   ]
  },
  {
   "cell_type": "code",
   "execution_count": null,
   "id": "3",
   "metadata": {},
   "outputs": [],
   "source": [
    "import pathlib\n",
    "import inspect\n",
    "\n",
    "import great_expectations as gx\n",
    "import great_expectations.expectations as gxe\n",
    "import pandas as pd\n",
    "\n",
    "import tutorial_code as tutorial\n",
    "import airflow_dags.cookbook1_ingest_customer_data as dag"
   ]
  },
  {
   "cell_type": "markdown",
   "id": "5",
   "metadata": {},
   "source": [
    "## Load raw customer data"
   ]
  },
  {
   "cell_type": "markdown",
   "id": "6",
   "metadata": {},
   "source": [
    "In this tutorial, you will clean and validate a dataset containing synthesized customer data. The data is loaded from a CSV file into a Pandas DataFrame."
   ]
  },
  {
   "cell_type": "code",
   "execution_count": null,
   "id": "7",
   "metadata": {},
   "outputs": [],
   "source": [
    "DATA_DIR = pathlib.Path(\"/cookbooks/data/raw\")\n",
    "\n",
    "df_customers_raw = pd.read_csv(DATA_DIR / \"customers.csv\", encoding=\"unicode_escape\")"
   ]
  },
  {
   "cell_type": "code",
   "execution_count": null,
   "id": "97c84195-172c-41dc-bda6-3e2ebffbeff1",
   "metadata": {},
   "outputs": [],
   "source": [
    "print(f\"Loaded {df_customers_raw.shape[0]} customer rows into dataframe.\\n\")\n",
    "\n",
    "display(df_customers_raw.head())"
   ]
  },
  {
   "cell_type": "markdown",
   "id": "7cc13c20-3aec-4b9b-a153-8a4df664883b",
   "metadata": {},
   "source": [
    "## Examine destination table"
   ]
  },
  {
   "cell_type": "markdown",
   "id": "9",
   "metadata": {},
   "source": [
    "The customer data will be loaded into a Postgres table, `customers`. Examine the schema of the destination table and compare to the initial schema and contents of the raw customer data."
   ]
  },
  {
   "cell_type": "code",
   "execution_count": null,
   "id": "4cc3810b-1279-42ea-b529-e5dea7236383",
   "metadata": {},
   "outputs": [],
   "source": [
    "tutorial.db.get_table_schema(table_name=\"customers\")"
   ]
  },
  {
   "cell_type": "markdown",
   "id": "02bbb135-a7c2-4f6e-8131-0e751b30cfc7",
   "metadata": {},
   "source": [
    "Prior to running the Airflow pipeline, the Postgres `customers` table contains no data."
   ]
  },
  {
   "cell_type": "code",
   "execution_count": null,
   "id": "61756536-6c85-4f41-9465-e5d301b3cac6",
   "metadata": {},
   "outputs": [],
   "source": [
    "tutorial.db.get_table_row_count(table_name=\"customers\")"
   ]
  },
  {
   "cell_type": "markdown",
   "id": "f1859eca-600a-4ef0-a244-b529ae3fb682",
   "metadata": {},
   "source": [
    "## Clean customer data"
   ]
  },
  {
   "cell_type": "markdown",
   "id": "4f01654e-6106-432a-a594-45714665b5fb",
   "metadata": {},
   "source": [
    "To clean the customer data, you will use a pre-prepared function, `clean_customer_data`. The cleaning code is displayed below, and then invoked to clean the raw customer data."
   ]
  },
  {
   "cell_type": "code",
   "execution_count": null,
   "id": "443551d1-7e15-449b-bc32-3ed767f4b631",
   "metadata": {},
   "outputs": [],
   "source": [
    "%pycat inspect.getsource(tutorial.cookbook1.clean_customer_data)"
   ]
  },
  {
   "cell_type": "code",
   "execution_count": null,
   "id": "11",
   "metadata": {},
   "outputs": [],
   "source": [
    "df_customers = tutorial.cookbook1.clean_customer_data(df_customers_raw)"
   ]
  },
  {
   "cell_type": "code",
   "execution_count": null,
   "id": "924e59d4-101f-4769-bb3b-e4554e542a90",
   "metadata": {
    "scrolled": true
   },
   "outputs": [],
   "source": [
    "print(f\"Loaded {df_customers_raw.shape[0]} cleaned customer rows.\\n\")\n",
    "\n",
    "display(df_customers.head())"
   ]
  },
  {
   "cell_type": "markdown",
   "id": "12",
   "metadata": {},
   "source": [
    "## GX validation workflow"
   ]
  },
  {
   "cell_type": "markdown",
   "id": "13",
   "metadata": {},
   "source": [
    "You will validate the cleaned customer data using GX prior to loading it into a Postgres database table. First, this section will explain an example of a simple a GX data validation workflow. Then, you'll apply that knowledge to validate the customer data.\n",
    "\n",
    "This tutorial contains a concise explanations of GX components and workflows. For more detail, visit the [Introduction to GX Core](https://docs.greatexpectations.io/docs/core/introduction/) in the GX docs."
   ]
  },
  {
   "cell_type": "markdown",
   "id": "4e34e18a-0cd3-4fb6-a52b-a559cccae996",
   "metadata": {},
   "source": [
    "### Validate data with a single Expectation"
   ]
  },
  {
   "cell_type": "markdown",
   "id": "509bc832-86db-4bf1-8ad3-b80aae7b8471",
   "metadata": {},
   "source": [
    "All GX workflows start with the creation of a **Data Context**. A Data Context is the Python object that serves as an entrypoint for the GX Core Python library, and it also manages the settings and metadata for your GX workflow."
   ]
  },
  {
   "cell_type": "code",
   "execution_count": null,
   "id": "c971d0e6-6500-4106-bbff-6752978e585f",
   "metadata": {},
   "outputs": [],
   "source": [
    "context = gx.get_context()"
   ]
  },
  {
   "cell_type": "markdown",
   "id": "3245b0b2-07ab-477c-b98b-c21a6e2186f7",
   "metadata": {},
   "source": [
    "Next, you create a **Data Source**, **Data Asset**, and **Batch Definition**. You then use the Batch Definition to generate a **Batch** of data to validate."
   ]
  },
  {
   "cell_type": "markdown",
   "id": "9a6a60a9-29bd-4ff3-bab2-867e09ae90c2",
   "metadata": {},
   "source": [
    "```{admonition} Adding GX components to the Data Context\n",
    "GX components are unique on name. Once a component is created with the Data Context, adding another component with the same name will cause an error. To enable repeated execution of cookbook cells that add GX workflow components, you will see the following pattern:\n",
    "\n",
    "    try:\n",
    "        Add a new component(s) to the context\n",
    "    except:\n",
    "        Get component(s) from the context by name\n",
    "```"
   ]
  },
  {
   "cell_type": "code",
   "execution_count": null,
   "id": "151d7512-e060-4378-abc7-73db93ae0be1",
   "metadata": {},
   "outputs": [],
   "source": [
    "# Create Data Source, Data Asset, and Batch Definition.\n",
    "try:\n",
    "    data_source = context.data_sources.add_pandas(\"pandas\")\n",
    "    data_asset = data_source.add_dataframe_asset(name=\"customer data\")\n",
    "    batch_definition = data_asset.add_batch_definition_whole_dataframe(\n",
    "        \"batch definition\"\n",
    "    )\n",
    "\n",
    "except:\n",
    "    data_source = context.data_sources.get(\"pandas\")\n",
    "    data_asset = data_source.get_asset(name=\"customer data\")\n",
    "    batch_definition = data_asset.get_batch_definition(\"batch definition\")\n",
    "\n",
    "# Get the Batch from the Batch Definition.\n",
    "batch = batch_definition.get_batch(batch_parameters={\"dataframe\": df_customers})"
   ]
  },
  {
   "cell_type": "markdown",
   "id": "caae3a98-22cc-445f-b399-9e2a9614e59e",
   "metadata": {},
   "source": [
    "An **Expectation** is a simple, declarative, verifiable assertion about your data. You can validate a Batch of data using an Expectation. Available Expectations can be easily found and instantiated using the `gxe` alias defined in the cookbook imports.\n",
    "\n",
    "First, create an Expectation that expects the columns in the customer data to match the provided ordered list of column names."
   ]
  },
  {
   "cell_type": "code",
   "execution_count": null,
   "id": "4260a6d6-7f18-4454-94d0-6bc98289429c",
   "metadata": {},
   "outputs": [],
   "source": [
    "expectation = gxe.ExpectTableColumnsToMatchOrderedList(\n",
    "    column_list=[\"customer_id\", \"name\", \"dob\", \"city\", \"state\", \"zip\", \"country\"]\n",
    ")"
   ]
  },
  {
   "cell_type": "markdown",
   "id": "0e469e8e-9a45-4fc6-8ee3-9217cca68cba",
   "metadata": {},
   "source": [
    "Next, validate your Batch using the Expectation."
   ]
  },
  {
   "cell_type": "code",
   "execution_count": null,
   "id": "88db1d6a-8d04-4d68-aae1-8cb0344c9bed",
   "metadata": {},
   "outputs": [],
   "source": [
    "validation_result = batch.validate(expectation)"
   ]
  },
  {
   "cell_type": "markdown",
   "id": "380adf0c-2d84-44e7-aea9-b77402a36a36",
   "metadata": {},
   "source": [
    "GX returns an `ExpectationValidationResult` object that provides metadata about the result of the validation and that can be accessed like a dictionary. The `ExpectationValidationResult` provides a variety of fields, most critically, the `success` field that indicates whether or not the Expectation passed."
   ]
  },
  {
   "cell_type": "code",
   "execution_count": null,
   "id": "15",
   "metadata": {},
   "outputs": [],
   "source": [
    "print(f\"Results type: {type(validation_result)}\\n\")\n",
    "\n",
    "display(validation_result)"
   ]
  },
  {
   "cell_type": "markdown",
   "id": "17",
   "metadata": {},
   "source": [
    "### Validate data with an Expectation Suite"
   ]
  },
  {
   "cell_type": "markdown",
   "id": "bcbe7e02-e3cc-4630-8a28-204f8af04e80",
   "metadata": {},
   "source": [
    "Batches of data can also be validated with an **Expectation Suite**, which is a collection of Expectations."
   ]
  },
  {
   "cell_type": "markdown",
   "id": "dfefc147-db10-4a64-858d-233400a4b762",
   "metadata": {},
   "source": [
    "First, add a new Expectation Suite to the Data Context. "
   ]
  },
  {
   "cell_type": "code",
   "execution_count": null,
   "id": "19",
   "metadata": {},
   "outputs": [],
   "source": [
    "# Create Expectation Suite.\n",
    "try:\n",
    "    expectation_suite = context.suites.add(\n",
    "        gx.ExpectationSuite(name=\"customer expectations\")\n",
    "    )\n",
    "except:\n",
    "    expectation_suite = context.suites.delete(name=\"customer expectations\")\n",
    "    expectation_suite = context.suites.add(\n",
    "        gx.ExpectationSuite(name=\"customer expectations\")\n",
    "    )"
   ]
  },
  {
   "cell_type": "markdown",
   "id": "e66d89a2-333e-436f-97ea-6e2ff0725fc7",
   "metadata": {},
   "source": [
    "Next, add Expectations to the Expectation Suite. Below, you will see Expectations that describe the required format of the customer data added to the Expectation Suite."
   ]
  },
  {
   "cell_type": "code",
   "execution_count": null,
   "id": "45301209-317b-4a3a-848c-687e61cfaeb5",
   "metadata": {},
   "outputs": [],
   "source": [
    "expectations = [\n",
    "    gxe.ExpectTableColumnsToMatchOrderedList(\n",
    "        column_list=[\"customer_id\", \"name\", \"dob\", \"city\", \"state\", \"zip\", \"country\"]\n",
    "    ),\n",
    "    gxe.ExpectColumnValuesToBeOfType(column=\"customer_id\", type_=\"int\"),\n",
    "    *[\n",
    "        gxe.ExpectColumnValuesToBeOfType(column=x, type_=\"str\")\n",
    "        for x in [\"name\", \"city\", \"state\", \"zip\"]\n",
    "    ],\n",
    "    gxe.ExpectColumnValuesToMatchRegex(column=\"dob\", regex=r\"^\\d{4}-\\d{2}-\\d{2}$\"),\n",
    "    gxe.ExpectColumnValuesToBeInSet(\n",
    "        column=\"country\", value_set=[\"AU\", \"CA\", \"DE\", \"FR\", \"GB\", \"IT\", \"NL\", \"US\"]\n",
    "    ),\n",
    "]\n",
    "\n",
    "for expectation in expectations:\n",
    "    expectation_suite.add_expectation(expectation)"
   ]
  },
  {
   "cell_type": "markdown",
   "id": "3da519af-12c0-4def-858f-e5efe2251dc4",
   "metadata": {},
   "source": [
    "Lastly, validate the Batch using the Expectation Suite."
   ]
  },
  {
   "cell_type": "code",
   "execution_count": null,
   "id": "7fe5068b-7709-4ad1-b522-3e60fee48bf0",
   "metadata": {},
   "outputs": [],
   "source": [
    "# Validate Batch using Expectation Suite.\n",
    "validation_result = batch.validate(expectation_suite)"
   ]
  },
  {
   "cell_type": "markdown",
   "id": "534adaac-1723-483d-82ce-6c94946558e2",
   "metadata": {},
   "source": [
    "When validating a Batch using an Expectation Suite, GX returns an `ExpectationSuiteValidationResult` object. "
   ]
  },
  {
   "cell_type": "code",
   "execution_count": null,
   "id": "20",
   "metadata": {},
   "outputs": [],
   "source": [
    "type(validation_result)"
   ]
  },
  {
   "cell_type": "markdown",
   "id": "ab9ed8c9-0869-4210-ada6-e4d0857b7eaf",
   "metadata": {},
   "source": [
    "Like the `ExpectationValidationResult` object, the `ExpectationSuiteValidationResult` object provides metadata about the result of the validation, but contains results for each of the individual Expectations that were run during the validation.\n",
    "\n",
    "* The `success` field indicates whether or not the validation passed. All individual Expectations in the Expectation Suite must pass for `success` to be `True`.\n",
    "* The `results` field contains indiviual results for each Expectation."
   ]
  },
  {
   "cell_type": "code",
   "execution_count": null,
   "id": "8da65c4c-732e-411a-8924-becd79335bf0",
   "metadata": {},
   "outputs": [],
   "source": [
    "print(f\"Validation passed: {validation_result['success']}\\n\")\n",
    "\n",
    "display(validation_result[\"results\"])"
   ]
  },
  {
   "cell_type": "markdown",
   "id": "21",
   "metadata": {},
   "source": [
    "## Integrate GX validation in the Airflow DAG"
   ]
  },
  {
   "cell_type": "markdown",
   "id": "0b1e5cf3-2ba9-472e-8b41-9e89b34b0f66",
   "metadata": {},
   "source": [
    "You will use the `success` metadata of the GX validation result object to control the actions of the `cookbook1_validate_and_ingest_to_postgres` Airflow pipeline."
   ]
  },
  {
   "cell_type": "markdown",
   "id": "51ff3c91-422e-44da-adec-c6fc61f699c2",
   "metadata": {},
   "source": [
    "### Inspect DAG code"
   ]
  },
  {
   "cell_type": "markdown",
   "id": "2af162b1-2d00-4d81-82a1-e90a5f6a753c",
   "metadata": {},
   "source": [
    "Examine the DAG code below that defines the `cookbook1_validate_and_ingest_to_postgres` pipeline. The DAG code checks the results of the GX validation before data is written to Postgres. If validation succeeds, the data is written to Postgres, but if validation fails, the pipeline will raise an error and halt.\n",
    "\n",
    "```\n",
    "# Halt pipeline with error if validation fails.\n",
    "if not validation_result[\"success\"]:\n",
    "    raise Exception(\"GX data validation failed.\")\n",
    "```"
   ]
  },
  {
   "cell_type": "code",
   "execution_count": null,
   "id": "8b4a6584-1d43-4262-8e3d-8aa04224f657",
   "metadata": {},
   "outputs": [],
   "source": [
    "%pycat inspect.getsource(dag)"
   ]
  },
  {
   "cell_type": "markdown",
   "id": "00576131-0970-491a-b299-9a5924dd3f1b",
   "metadata": {},
   "source": [
    "### View the Airflow pipeline"
   ]
  },
  {
   "cell_type": "markdown",
   "id": "fb77b7ca-da8a-4a05-8d1d-df1d61188d24",
   "metadata": {},
   "source": [
    "To view the `cookbook1_validate_and_ingest_to_postgres` pipeline in the Airflow UI, log into the locally running Airflow instance.\n",
    "\n",
    "1. Open [http://localhost:8080/](http://localhost:8080/) in a browser window.\n",
    "2. Log in with these credentials:\n",
    "  * Username: `admin`\n",
    "  * Password: `gx`\n",
    "\n",
    "You will see the pipeline under **DAGs** on login."
   ]
  },
  {
   "cell_type": "markdown",
   "id": "7ebdd991-d521-4fd8-9ece-523615591fa0",
   "metadata": {},
   "source": [
    "![Log in to tutorial Airflow UI](static/images/cookbook1_log_in_to_airflow_ui.gif)"
   ]
  },
  {
   "cell_type": "markdown",
   "id": "23",
   "metadata": {},
   "source": [
    "### Trigger the Airflow pipeline"
   ]
  },
  {
   "cell_type": "markdown",
   "id": "24",
   "metadata": {},
   "source": [
    "You can trigger the DAG from this notebook, using the provided convenience function in the cell below, or you can trigger the DAG manually in the Airflow UI."
   ]
  },
  {
   "cell_type": "code",
   "execution_count": null,
   "id": "25",
   "metadata": {},
   "outputs": [],
   "source": [
    "dag_run_id, dag_run_state = tutorial.airflow.trigger_airflow_dag(\n",
    "    \"cookbook1_validate_and_ingest_to_postgres\"\n",
    ")\n",
    "print(f\"DAG run {dag_run_id} is {dag_run_state}.\")"
   ]
  },
  {
   "cell_type": "markdown",
   "id": "2e98fcfa-a838-4d6b-8723-0dd911d96485",
   "metadata": {},
   "source": [
    "To trigger the `cookbook1_validate_and_ingest_to_postgres` DAG from the Airflow UI, click the **Trigger DAG** button (with a play icon) under Actions. This will queue the DAG and it will execute shortly. The successful run is indicated by the run count inside the green circle under Runs."
   ]
  },
  {
   "cell_type": "markdown",
   "id": "c38545db-a83b-4087-87d6-7bf5a2e7c0f3",
   "metadata": {},
   "source": [
    "![Trigger the Airflow DAG](static/images/cookbook1_trigger_dag.gif)"
   ]
  },
  {
   "cell_type": "markdown",
   "id": "a2f36f99-b1ae-4399-9689-bddd17d12969",
   "metadata": {},
   "source": [
    "The `cookbook1_validate_and_ingest_to_postgres` DAG can be rerun multiple times; you can experiment with running it from this notebook or from the Airflow UI. The pipeline insert ignores into the Postgres `customers` table, meaning that it will not attempt to insert a row with the same primary key as an existing row."
   ]
  },
  {
   "cell_type": "markdown",
   "id": "3acbae83-bf0d-47a8-91c4-92f3e452b8fc",
   "metadata": {},
   "source": [
    "### View pipeline results"
   ]
  },
  {
   "cell_type": "markdown",
   "id": "54742075-bac0-4582-853b-1159f09eaf6a",
   "metadata": {},
   "source": [
    "Once the pipeline has been run, the `customers` table is populated with the cleaned customer data. You can view the updated table count and a sampling of rows."
   ]
  },
  {
   "cell_type": "code",
   "execution_count": null,
   "id": "19bdb88c-92be-44d3-b0ee-da33b41c7aca",
   "metadata": {},
   "outputs": [],
   "source": [
    "tutorial.db.get_table_row_count(table_name=\"customers\")"
   ]
  },
  {
   "cell_type": "code",
   "execution_count": null,
   "id": "442f34ca-0263-4947-a97c-6f5977faa502",
   "metadata": {},
   "outputs": [],
   "source": [
    "pd.read_sql_query(\n",
    "    \"select * from customers limit 10\", con=tutorial.db.get_local_postgres_engine()\n",
    ")"
   ]
  },
  {
   "cell_type": "markdown",
   "id": "a30c2416-1089-4914-963d-afcadc0b9ea4",
   "metadata": {},
   "source": [
    "It can also be helpful to view the pipeline logs to investigate the details of a successful (or unsuccessful run). To examine these logs in the Airflow UI:\n",
    "1. On the DAGs screen, click on the run(s) of interest under Runs.\n",
    "2. Click the name of the individual run you want to examine. This will load the DAG execution details.\n",
    "3. Click the Graph tab, and then the `cookbook1_validate_and_ingest_to_postgres` task box on the visual rendering.\n",
    "4. Click the Logs tab to load the DAG logs.\n",
    "\n",
    "You can see in the screen capture below that the logs reflect the row insertion print statement that was included in the DAG code."
   ]
  },
  {
   "cell_type": "markdown",
   "id": "c49da85b-2c85-4705-87e9-0905ae9e9f2f",
   "metadata": {},
   "source": [
    "![Check logs for successful pipeline run](static/images/cookbook1_check_pipeline_logs.gif)"
   ]
  },
  {
   "cell_type": "markdown",
   "id": "ef1a476d-2404-46d5-8171-fdaf6b6c6e15",
   "metadata": {},
   "source": [
    "## Summary"
   ]
  },
  {
   "cell_type": "markdown",
   "id": "e004fc78-1257-4dd1-b519-c16ebb020973",
   "metadata": {},
   "source": [
    "This cookbook has walked you through the process of validating data using GX and integrating the data validation workflow in an Airflow pipeline.\n",
    "\n",
    "Future cookbooks will explore additional scenarios in which pipeline validation fails, the pipeline is halted, and invalid data is automatically handled in the pipeline execution."
   ]
  },
  {
   "cell_type": "code",
   "execution_count": null,
   "id": "4f947bbc-719a-48f8-9242-2b9953b400d2",
   "metadata": {},
   "outputs": [],
   "source": []
  }
 ],
 "metadata": {
  "kernelspec": {
   "display_name": "Python 3 (ipykernel)",
   "language": "python",
   "name": "python3"
  },
  "language_info": {
   "codemirror_mode": {
    "name": "ipython",
    "version": 3
   },
   "file_extension": ".py",
   "mimetype": "text/x-python",
   "name": "python",
   "nbconvert_exporter": "python",
   "pygments_lexer": "ipython3",
   "version": "3.11.10"
  }
 },
 "nbformat": 4,
 "nbformat_minor": 5
}
