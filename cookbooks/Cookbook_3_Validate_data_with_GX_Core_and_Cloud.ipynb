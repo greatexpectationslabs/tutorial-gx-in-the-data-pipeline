{
 "cells": [
  {
   "cell_type": "markdown",
   "id": "dd673504-2605-4d77-810e-ba6295b50767",
   "metadata": {},
   "source": [
    "# Cookbook 3: Validate data with GX Core and GX Cloud"
   ]
  },
  {
   "cell_type": "markdown",
   "id": "062a9fb2-e2ff-4842-b8b3-edab541c9231",
   "metadata": {},
   "source": [
    "This cookbook showcases a sample GX data validation workflow characteristic of validation performed on existing organizational data."
   ]
  },
  {
   "cell_type": "markdown",
   "id": "3aacfc44-2bc0-4b86-922e-ef8f59da245c",
   "metadata": {},
   "source": [
    "## Imports"
   ]
  },
  {
   "cell_type": "markdown",
   "id": "cd1f9b7c-0981-4aab-8009-0b0e3ae89206",
   "metadata": {},
   "source": [
    "This tutorial features the `great_expectations` library.\n",
    "\n",
    "The `tutorial_code` module contains helper functions used within this notebook and the associated Airflow pipeline.\n",
    "\n",
    "The `airflow_dags` submodule is included so that you can inspect the code used in the related Airflow DAG directly from this notebook."
   ]
  },
  {
   "cell_type": "code",
   "execution_count": null,
   "id": "325d6882-fb77-4130-96bb-ba32ca9d206a",
   "metadata": {},
   "outputs": [],
   "source": [
    "import great_expectations as gx\n",
    "import great_expectations.expectations as gxe\n",
    "\n",
    "import tutorial_code as tutorial\n",
    "import airflow_dags.cookbook2_validate_and_handle_invalid_data as dag"
   ]
  },
  {
   "cell_type": "markdown",
   "id": "5977a409-94b4-4780-a0e0-33380d0c307b",
   "metadata": {},
   "source": [
    "## Verify GX Cloud credentials are defined"
   ]
  },
  {
   "cell_type": "markdown",
   "id": "4bcf5476-4b69-47cc-85cc-f7e0d8ea75b3",
   "metadata": {},
   "source": [
    "This cookbook persists validation results to GX Cloud, and requires that valid GX Cloud organization credentials are provided."
   ]
  },
  {
   "cell_type": "code",
   "execution_count": null,
   "id": "f1bb3e9a-0732-4d43-b295-4880cd280302",
   "metadata": {},
   "outputs": [],
   "source": [
    "tutorial.cloud.check_for_gx_cloud_credentials_exist()"
   ]
  },
  {
   "cell_type": "markdown",
   "id": "cd67cea1-fedc-47df-bd9b-2929e795f893",
   "metadata": {},
   "source": [
    "```{warning} GX Cloud credential error\n",
    "If `tutorial.cloud.check_for_gx_cloud_credentials_exist()` rasies a `ValueError` indicating that `GX_CLOUD_ORGANIZATION_ID` or `GX_CLOUD_ACCESS_TOKEN` is undefined, ensure that you have provided your GX Cloud organization id and access token when starting Docker compose.\n",
    "```"
   ]
  },
  {
   "cell_type": "code",
   "execution_count": null,
   "id": "525306ca-e850-456d-af63-cd1b0deedd1f",
   "metadata": {},
   "outputs": [],
   "source": []
  }
 ],
 "metadata": {
  "kernelspec": {
   "display_name": "Python 3 (ipykernel)",
   "language": "python",
   "name": "python3"
  },
  "language_info": {
   "codemirror_mode": {
    "name": "ipython",
    "version": 3
   },
   "file_extension": ".py",
   "mimetype": "text/x-python",
   "name": "python",
   "nbconvert_exporter": "python",
   "pygments_lexer": "ipython3",
   "version": "3.11.11"
  }
 },
 "nbformat": 4,
 "nbformat_minor": 5
}
