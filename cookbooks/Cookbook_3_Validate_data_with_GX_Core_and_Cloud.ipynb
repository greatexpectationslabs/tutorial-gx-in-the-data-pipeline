{
 "cells": [
  {
   "cell_type": "markdown",
   "id": "dd673504-2605-4d77-810e-ba6295b50767",
   "metadata": {},
   "source": [
    "# Cookbook 3: Validate data with GX Core and GX Cloud"
   ]
  },
  {
   "cell_type": "markdown",
   "id": "b3e0a3a8-de69-4b2b-8e8a-96dfa6ad8532",
   "metadata": {},
   "source": [
    "**Note:** ***The GX Cloud UI screenshots contained in this cookbook are current as of*** `2025-01-06`. ***As GX Cloud continues to evolve, it is possible that you will see a difference between the latest UI and the screenshots displayed here.***"
   ]
  },
  {
   "cell_type": "markdown",
   "id": "062a9fb2-e2ff-4842-b8b3-edab541c9231",
   "metadata": {},
   "source": [
    "This cookbook showcases a data validation workflow characteristic of vetting existing data in an organization's data stores. It could be representative of two groups within an organization enforcing a publisher-subscriber data contract, or representative of users ensuring that data meets the quality requirements for its intended use, such as analytics or modeling.\n",
    "\n",
    "[Cookbook 1](Cookbook_1_Validate_data_during_ingestion_happy_path.ipynb) and [Cookbook 2](Cookbook_2_Validate_data_during_ingestion_take_action_on_failures.ipynb) explored GX Core workflows that were run within a data pipeline, orchestrated by Airflow. This cookbook introduces [GX Cloud](https://greatexpectations.io/gx-cloud) as an additional tool to store and visualize data validation results and features a hybrid workflow using GX Core, GX Cloud, and Airflow.\n",
    "\n",
    "This cookbook builds on [Cookbook 1: Validate data during ingestion (happy path)](Cookbook_1_Validate_data_during_ingestion_happy_path.ipynb) and [Cookbook 2: Validate data during ingestion (take action on failures)](Cookbook_2_Validate_data_during_ingestion_take_action_on_failures.ipynb) and focuses on how data validation failures can be programmatically handled in the pipeline based on GX Validation Results and how failures can be shared using GX Cloud. This cookbook assumes basic familiarity with GX Core workflows; for a step-by-step explanation of the GX data validation workflow, refer to [Cookbook 1](Cookbook_1_Validate_data_during_ingestion_happy_path.ipynb) and [Cookbook 2](Cookbook_2_Validate_data_during_ingestion_take_action_on_failures.ipynb)."
   ]
  },
  {
   "cell_type": "markdown",
   "id": "3aacfc44-2bc0-4b86-922e-ef8f59da245c",
   "metadata": {},
   "source": [
    "## Imports"
   ]
  },
  {
   "cell_type": "markdown",
   "id": "cd1f9b7c-0981-4aab-8009-0b0e3ae89206",
   "metadata": {},
   "source": [
    "The GX Core content of this cookbook uses the `great_expectations` library.\n",
    "\n",
    "The `tutorial_code` module contains helper functions used within this notebook and the associated Airflow pipeline.\n",
    "\n",
    "The `airflow_dags` submodule is included so that you can inspect the code used in the related Airflow DAG directly from this notebook."
   ]
  },
  {
   "cell_type": "code",
   "execution_count": null,
   "id": "325d6882-fb77-4130-96bb-ba32ca9d206a",
   "metadata": {},
   "outputs": [],
   "source": [
    "import inspect\n",
    "import os\n",
    "\n",
    "import great_expectations as gx\n",
    "import great_expectations.expectations as gxe\n",
    "import IPython\n",
    "import pandas as pd\n",
    "\n",
    "import tutorial_code as tutorial\n",
    "import airflow_dags.cookbook3_validate_postgres_table_data as dag"
   ]
  },
  {
   "cell_type": "markdown",
   "id": "3ec6e7a4-d907-448d-8102-74dfd4c95643",
   "metadata": {},
   "source": [
    "## The GX data quality platform"
   ]
  },
  {
   "cell_type": "markdown",
   "id": "5bfa2858-c426-4cde-919b-78dfd21f586c",
   "metadata": {},
   "source": [
    "The Great Expectations data quality platform is comprised by:\n",
    "* [GX Cloud](https://greatexpectations.io/gx-cloud), a fully managed SaaS solution, with web portal, and\n",
    "* [GX Core](https://github.com/great-expectations/great_expectations), the open source Python framework.\n",
    "\n",
    "GX Cloud and GX Core can be used separately for a cloud-only or programmatic-only approach ([Cookbook 1](Cookbook_1_Validate_data_during_ingestion_happy_path.ipynb) and [Cookbook 2](Cookbook_2_Validate_data_during_ingestion_take_action_on_failures.ipynb) are an example of a Core-only workflow). However, using GX Core and GX Cloud *together* provides a solution in which GX Cloud serves as a single source of truth for data quality definition and application, and GX Core enables flexible integration of data validation into existing data stacks. Together, GX Cloud and GX Core enable you to achieve data quality definition, monitoring, and management using UI-based workflows, programmatic workflows, or hybrid workflows.\n",
    "\n",
    "The diagram below depicts different ways you might opt to use the platform (but is not exhaustive):"
   ]
  },
  {
   "cell_type": "code",
   "execution_count": null,
   "id": "f879ae7d-f3cb-43a2-b999-81c9635e7521",
   "metadata": {},
   "outputs": [],
   "source": [
    "IPython.display.Image(\n",
    "    \"img/diagrams/gx_cloud_core_architecture.png\",\n",
    "    alt=\"Example modes of working together with GX Cloud and GX Core\",\n",
    "    width=900,\n",
    ")"
   ]
  },
  {
   "cell_type": "markdown",
   "id": "b1a3b8e3-8517-41d6-ad7a-312b36089645",
   "metadata": {},
   "source": [
    "## Cookbook workflow"
   ]
  },
  {
   "cell_type": "markdown",
   "id": "f2148bb7-f05c-4add-9626-f9ee55f8f56a",
   "metadata": {},
   "source": [
    "In this cookbook, you will use GX Core, GX Cloud, and Airflow to define data quality for sample data, run data validation, and explore the results of data validation. The key steps are:\n",
    "1. Define your Data Asset, Expectations, and Checkpoint programmatically with GX Core\n",
    "2. Store the GX workflow configuration in your GX Cloud organization\n",
    "3. Trigger data validation from an Airflow pipeline\n",
    "4. Explore data validation results in GX Cloud\n",
    "\n",
    "The diagram below depicts, in more detail, the underlying interactions of GX Core, GX Cloud, Airflow, and the sample data Postgres database. As you work through this cookbook, you'll implement each of these interactions."
   ]
  },
  {
   "cell_type": "code",
   "execution_count": null,
   "id": "dd2ae70b-9b1c-4c7d-a111-68fecce1aee0",
   "metadata": {},
   "outputs": [],
   "source": [
    "IPython.display.Image(\n",
    "    \"img/diagrams/cookbook3_workflow.png\",\n",
    "    alt=\"GX Cloud and GX Core interactions in Cookbook3\",\n",
    "    width=900,\n",
    ")"
   ]
  },
  {
   "cell_type": "markdown",
   "id": "de611c9d-8b44-4729-a5cd-1e795d9b86d0",
   "metadata": {},
   "source": [
    "## Verify GX Cloud connectivity"
   ]
  },
  {
   "cell_type": "markdown",
   "id": "4edfef32-12f9-4d6a-8ea8-3256e18c2ca7",
   "metadata": {},
   "source": [
    "Before working through the tutorial, check that your GX Cloud organization credentials are available in this notebook environment, and log in to GX Cloud."
   ]
  },
  {
   "cell_type": "markdown",
   "id": "5977a409-94b4-4780-a0e0-33380d0c307b",
   "metadata": {},
   "source": [
    "### Check that GX Cloud credentials are defined"
   ]
  },
  {
   "cell_type": "markdown",
   "id": "4bcf5476-4b69-47cc-85cc-f7e0d8ea75b3",
   "metadata": {},
   "source": [
    "Valid GX Cloud organization credentials need to be provided for GX Core to persist workflow configuration and validation results to GX Cloud. Run the code below to check that your credentials are availabe in this notebook environment."
   ]
  },
  {
   "cell_type": "code",
   "execution_count": null,
   "id": "f1bb3e9a-0732-4d43-b295-4880cd280302",
   "metadata": {},
   "outputs": [],
   "source": [
    "if tutorial.cloud.gx_cloud_credentials_exist():\n",
    "    print(\n",
    "        \"Found stored credentials in the GX_CLOUD_ORGANIZATION_ID and GX_CLOUD_ACCESS_TOKEN environment variables.\"\n",
    "    )"
   ]
  },
  {
   "cell_type": "markdown",
   "id": "cd67cea1-fedc-47df-bd9b-2929e795f893",
   "metadata": {},
   "source": [
    "```{warning} GX Cloud credential error\n",
    "If `tutorial.cloud.check_for_gx_cloud_credentials_exist()` rasies a `ValueError` indicating that `GX_CLOUD_ORGANIZATION_ID` or `GX_CLOUD_ACCESS_TOKEN` is undefined, ensure that you have provided your GX Cloud organization id and access token when starting Docker compose.\n",
    "```"
   ]
  },
  {
   "cell_type": "markdown",
   "id": "0f74e824-13f6-49bb-ae48-b09ded06aeb1",
   "metadata": {},
   "source": [
    "### Log into GX Cloud"
   ]
  },
  {
   "cell_type": "markdown",
   "id": "0475c353-ed1a-4104-97d2-e3971473bb7c",
   "metadata": {},
   "source": [
    "In a separate browser window or tab, log in to [GX Cloud](https://hubs.ly/Q02TyCZS0)."
   ]
  },
  {
   "cell_type": "markdown",
   "id": "f5560b65-aa5a-47db-bc18-07432ea1cb85",
   "metadata": {},
   "source": [
    "## Connect to source data"
   ]
  },
  {
   "cell_type": "markdown",
   "id": "e2d64e46-4d6d-4e6f-bcf4-a6e195554858",
   "metadata": {},
   "source": [
    "In this tutorial, you will validate customer profile information that is hosted in a publicly available Postgres database, provided by GX. The customer profile data extends the sample customer data used in [Cookbook 1](Cookbook_1_Validate_data_during_ingestion_happy_path.ipynb). Data for each customer includes their age (in years) and annual income (in USD)."
   ]
  },
  {
   "cell_type": "code",
   "execution_count": null,
   "id": "04eee084-5f82-4c66-a05a-7c5ede2b2b4f",
   "metadata": {},
   "outputs": [],
   "source": [
    "pd.read_sql_query(\n",
    "    \"select count(*) from customer_profile\",\n",
    "    con=tutorial.db.get_cloud_postgres_engine(),\n",
    ").iloc[0][\"count\"]"
   ]
  },
  {
   "cell_type": "code",
   "execution_count": null,
   "id": "7e1e65e6-f444-4eff-bea5-1e9076fbec42",
   "metadata": {},
   "outputs": [],
   "source": [
    "pd.read_sql_query(\n",
    "    \"select * from customer_profile limit 5\",\n",
    "    con=tutorial.db.get_cloud_postgres_engine(),\n",
    ")"
   ]
  },
  {
   "cell_type": "markdown",
   "id": "d7c234c5-8b4f-4e51-8679-f74c4db01252",
   "metadata": {},
   "source": [
    "## Profile source data and determine data quality checks"
   ]
  },
  {
   "cell_type": "markdown",
   "id": "38e01f54-6608-48c2-87aa-42251d1f7bca",
   "metadata": {},
   "source": [
    "The scenario explored in this cookbook assumes that the data has been vetted for schema adherence and completeness. Notably, all rows contain required fields and data is non-null and in a valid format.\n",
    "\n",
    "The Expectations that you create will assess the distribution of the customer profile dataset - representative of data testing performed before using data for analysis or machine learning purposes."
   ]
  },
  {
   "cell_type": "code",
   "execution_count": null,
   "id": "7e41f8f7-d2f4-41c0-a1ce-1c05c4375113",
   "metadata": {},
   "outputs": [],
   "source": [
    "tutorial.cookbook3.visualize_customer_age_distribution()"
   ]
  },
  {
   "cell_type": "code",
   "execution_count": null,
   "id": "bc580926-a98d-4607-b03b-b41b26024837",
   "metadata": {},
   "outputs": [],
   "source": [
    "tutorial.cookbook3.visualize_customer_income_distribution()"
   ]
  },
  {
   "cell_type": "markdown",
   "id": "c372abfa-b00d-4cad-b59e-0c9b0bcf543b",
   "metadata": {},
   "source": [
    "You will use the following Expectations in this cookbook to validate distribution of the sample customer profile data:\n",
    "* The minimum customer age is between 20 and 25 years\n",
    "* The maximum customer age is 85 years or younger\n",
    "* The median customer annual income between 45k and 50k, with a standard deviation of 10k."
   ]
  },
  {
   "cell_type": "markdown",
   "id": "d5df7aad-9e2a-45bc-9e81-474232771cb0",
   "metadata": {},
   "source": [
    "## GX validation workflow"
   ]
  },
  {
   "cell_type": "markdown",
   "id": "6566c683-f562-479e-9a34-83a95df61fc1",
   "metadata": {},
   "source": [
    "The GX data validation workflow was introduced in [Cookbook 1](Cookbook_1_Validate_data_during_ingestion_happy_path.ipynb) and [Cookbook 2](Cookbook_2_Validate_data_during_ingestion_take_action_on_failures.ipynb); refer to these cookbooks for provided walkthroughs of the following GX components:\n",
    "* Data definition: Data Source, Data Asset, Batch Definition, Batch\n",
    "* Data quality definition: Expectation, Expectation Suite\n",
    "* Data Validation: Validation Definition, Checkpoint, Validation Result\n",
    "\n",
    "This cookbook will provide additional detail on the Data Context and discuss the choice of Data Context when introducing GX Cloud into your data validation workflow."
   ]
  },
  {
   "cell_type": "markdown",
   "id": "c74f5862-16bc-47c9-8841-1d2983f40709",
   "metadata": {},
   "source": [
    "### Ephemeral and Cloud Data Contexts"
   ]
  },
  {
   "cell_type": "markdown",
   "id": "9bc6ab83-befc-447a-b4c6-d220251d25a5",
   "metadata": {},
   "source": [
    "All GX Core workflows start with the creation of a Data Contex. A Data Context is the Python object that serves as an entrypoint for the GX Core Python library, and it also manages the settings and metadata for your GX workflow.\n",
    "\n",
    "* An **Ephemeral Data Context** stores the configuration of your GX workflow in memory. Workflow configurations do not persist beyond the current notebook or Python session.\n",
    "\n",
    "  ```\n",
    "  context = gx.get_context(mode=\"ephemeral\")\n",
    "  ```\n",
    "\n",
    "* A **Cloud Data Context** stores the configuration of your GX workflow in GX Cloud. Configurations stored in GX Cloud are accessible by others in your organization and can be used across sessions and mediums - in Python notebooks, Python scripts, and orchestrators that support Python. When creating a Cloud Data Context, you need to provide credentials for the specific GX Cloud organization that you want to use.\n",
    "\n",
    "  ```\n",
    "  context = gx.get_context(\n",
    "      mode=\"cloud\",\n",
    "      cloud_organization_id=\"<my-gx-cloud-org-id>\",\n",
    "      cloud_access_token=\"<my-gx-cloud-access-token>\"\n",
    "  )\n",
    "  ```\n",
    "\n",
    "For additional detail on Data Contexts, see [Create a Data Context](https://docs.greatexpectations.io/docs/core/set_up_a_gx_environment/create_a_data_context) in the GX Core documentation."
   ]
  },
  {
   "cell_type": "markdown",
   "id": "c7d73158-3222-44bf-9266-0a8232ee1085",
   "metadata": {},
   "source": [
    "The `gx.get_context()` method, when called with no arguments, will auto-discover your GX Cloud organization id and access token credentials if they are available as the `GX_CLOUD_ORGANIZATION_ID` and `GX_CLOUD_ACCESS_TOKEN` environment variables, respectively."
   ]
  },
  {
   "cell_type": "code",
   "execution_count": null,
   "id": "2f4cecbf-d9cc-4303-8380-7fff3939f303",
   "metadata": {},
   "outputs": [],
   "source": [
    "context = gx.get_context()\n",
    "\n",
    "if (os.getenv(\"GX_CLOUD_ORGANIZATION_ID\", None) is not None) and (\n",
    "    os.getenv(\"GX_CLOUD_ACCESS_TOKEN\", None) is not None\n",
    "):\n",
    "    assert isinstance(context, gx.data_context.CloudDataContext)\n",
    "    print(\"GX Cloud credentials found, created CloudDataContext.\")"
   ]
  },
  {
   "cell_type": "markdown",
   "id": "76a33014-8ac6-4dd7-a689-5016a6728427",
   "metadata": {},
   "source": [
    "### Define validation workflow and persist configuration in GX Cloud"
   ]
  },
  {
   "cell_type": "markdown",
   "id": "d274f335-52e5-41e6-a9e9-1ebe6beea0f4",
   "metadata": {},
   "source": [
    "```{admonition} Reminder: Adding GX components to the Data Context\n",
    "GX components are unique on name. Once a component is created with the Data Context, adding another component with the same name will cause an error. To enable repeated execution of cookbook cells that add GX workflow components, you will see the following pattern:\n",
    "\n",
    "    try:\n",
    "        Add a new component(s) to the context\n",
    "    except:\n",
    "        Get component(s) from the context by name, or delete and recreate the component(s)\n",
    "```"
   ]
  },
  {
   "cell_type": "markdown",
   "id": "9215451c-4d91-4eb6-b85d-bed1819d34b0",
   "metadata": {},
   "source": [
    "#### Create the GX Data Asset"
   ]
  },
  {
   "cell_type": "markdown",
   "id": "e8aa9754-f2bd-4a3b-9491-8ddfac7608ea",
   "metadata": {},
   "source": [
    "Create the Cloud Data Context and the initial components that define a Data Asset for the sample customer profile data."
   ]
  },
  {
   "cell_type": "code",
   "execution_count": null,
   "id": "85b1b6a2-a939-44cb-9696-f2b8e85e09fd",
   "metadata": {},
   "outputs": [],
   "source": [
    "# Create the Cloud Data Context.\n",
    "context = gx.get_context()\n",
    "\n",
    "# Create the Data Source, Data Asset, and Batch Definition.\n",
    "try:\n",
    "    data_source = context.data_sources.add_postgres(\n",
    "        \"GX tutorial\", connection_string=tutorial.db.get_gx_postgres_connection_string()\n",
    "    )\n",
    "    data_asset = data_source.add_table_asset(\n",
    "        name=\"customer profiles\", table_name=\"customer_profile\"\n",
    "    )\n",
    "    batch_definition = data_asset.add_batch_definition_whole_table(\n",
    "        \"customer profiles batch definition\"\n",
    "    )\n",
    "\n",
    "except:\n",
    "    data_source = context.data_sources.get(\"GX tutorial\")\n",
    "    data_asset = data_source.get_asset(name=\"customer profiles\")\n",
    "    batch_definition = data_asset.get_batch_definition(\n",
    "        \"customer profiles batch definition\"\n",
    "    )"
   ]
  },
  {
   "cell_type": "markdown",
   "id": "513be140-3fd2-4363-b84d-81166c7566ef",
   "metadata": {},
   "source": [
    "#### Examine the Data Asset in GX Cloud"
   ]
  },
  {
   "cell_type": "markdown",
   "id": "9f4b725f-9643-408c-bc71-fdcbbbe72a6b",
   "metadata": {},
   "source": [
    "Since the Cloud Data Context was used to create the Data Source and Data Asset, you will now see these components in your GX Cloud organization. View the Data Asset in the [GX Cloud UI](https://hubs.ly/Q02TyCZS0)."
   ]
  },
  {
   "cell_type": "code",
   "execution_count": null,
   "id": "201f6eea-5a79-4024-aeb3-bba893dae232",
   "metadata": {},
   "outputs": [],
   "source": [
    "IPython.display.Image(\n",
    "    \"img/screencaptures/cookbook3_new_data_asset.png\",\n",
    "    alt=\"Data Asset created in GX Cloud using a Cloud Data Context\",\n",
    "    width=900,\n",
    ")"
   ]
  },
  {
   "cell_type": "markdown",
   "id": "1e36d165-569c-4591-b63a-1e40c8d33c87",
   "metadata": {},
   "source": [
    "You will see that the newly created Data Asset does not contain any Expectations or Validation Results yet."
   ]
  },
  {
   "cell_type": "code",
   "execution_count": null,
   "id": "ee613c8b-5eac-437b-8288-0b309ec1d451",
   "metadata": {},
   "outputs": [],
   "source": [
    "IPython.display.Image(\n",
    "    \"img/screencaptures/cookbook3_new_asset_no_expectations_validations.png\",\n",
    "    alt=\"A Data Asset newly created with GX Core does not yet have Expectations or Validation Results in GX Cloud\",\n",
    "    width=700,\n",
    ")"
   ]
  },
  {
   "cell_type": "markdown",
   "id": "d63fd958-68bd-41a6-a604-4bf6a2c17219",
   "metadata": {},
   "source": [
    "#### Add Expectations and a Checkpoint to the workflow"
   ]
  },
  {
   "cell_type": "markdown",
   "id": "036a3b88-4ba0-4272-bfd8-069105611dd6",
   "metadata": {},
   "source": [
    "Continue to build your GX validation workflow, adding the Expectation Suite, Expectations, Validation Definition, and Checkpoint."
   ]
  },
  {
   "cell_type": "code",
   "execution_count": null,
   "id": "884fa9c7-1a0c-49c4-8911-134a2d37e1e8",
   "metadata": {},
   "outputs": [],
   "source": [
    "EXPECTATION_SUITE_NAME = \"Customer profile expectations\"\n",
    "VALIDATION_DEFINTION_NAME = \"Customer profile validation definition\"\n",
    "CHECKPOINT_NAME = \"Customer profile checkpoint\"\n",
    "\n",
    "\n",
    "def create_gx_validation_workflow_components(\n",
    "    expectation_suite_name: str, validation_definition_name: str, checkpoint_name: str\n",
    ") -> gx.Checkpoint:\n",
    "    \"\"\"Create the Expectation Suite, Validation Definition, and Checkpoint for the Cookbook 3 workflow.\n",
    "\n",
    "    Returns:\n",
    "        GX Checkpoint object\n",
    "    \"\"\"\n",
    "\n",
    "    # Create the Expectation Suite.\n",
    "    expectation_suite = context.suites.add(\n",
    "        gx.ExpectationSuite(name=EXPECTATION_SUITE_NAME)\n",
    "    )\n",
    "\n",
    "    # Add Expectations to Expectation Suite.\n",
    "    expectations = [\n",
    "        gxe.ExpectColumnMinToBeBetween(column=\"age\", min_value=20, max_value=25),\n",
    "        gxe.ExpectColumnMaxToBeBetween(column=\"age\", max_value=90),\n",
    "        gxe.ExpectColumnMedianToBeBetween(\n",
    "            column=\"annual_income_usd\", min_value=45_000, max_value=50_000\n",
    "        ),\n",
    "        gxe.ExpectColumnStdevToBeBetween(\n",
    "            column=\"annual_income_usd\", min_value=10_000, max_value=10_000\n",
    "        ),\n",
    "    ]\n",
    "\n",
    "    for expectation in expectations:\n",
    "        expectation_suite.add_expectation(expectation)\n",
    "\n",
    "    expectation_suite.save()\n",
    "\n",
    "    # Create the Validation Definition.\n",
    "    validation_definition = context.validation_definitions.add(\n",
    "        gx.ValidationDefinition(\n",
    "            name=VALIDATION_DEFINTION_NAME,\n",
    "            data=batch_definition,\n",
    "            suite=expectation_suite,\n",
    "        )\n",
    "    )\n",
    "\n",
    "    # Create the Checkpoint.\n",
    "    checkpoint = context.checkpoints.add(\n",
    "        gx.Checkpoint(\n",
    "            name=CHECKPOINT_NAME,\n",
    "            validation_definitions=[validation_definition],\n",
    "        )\n",
    "    )\n",
    "\n",
    "    return checkpoint\n",
    "\n",
    "\n",
    "# Create (or recreate: delete & create) the cookbook workflow components.\n",
    "try:\n",
    "    checkpoint = create_gx_validation_workflow_components(\n",
    "        expectation_suite_name=EXPECTATION_SUITE_NAME,\n",
    "        validation_definition_name=VALIDATION_DEFINTION_NAME,\n",
    "        checkpoint_name=CHECKPOINT_NAME,\n",
    "    )\n",
    "\n",
    "except:\n",
    "    context.checkpoints.delete(name=CHECKPOINT_NAME)\n",
    "    context.validation_definitions.delete(name=VALIDATION_DEFINTION_NAME)\n",
    "    expectation_suite = context.suites.delete(name=EXPECTATION_SUITE_NAME)\n",
    "\n",
    "    checkpoint = create_gx_validation_workflow_components(\n",
    "        expectation_suite_name=EXPECTATION_SUITE_NAME,\n",
    "        validation_definition_name=VALIDATION_DEFINTION_NAME,\n",
    "        checkpoint_name=CHECKPOINT_NAME,\n",
    "    )"
   ]
  },
  {
   "cell_type": "markdown",
   "id": "4488852f-6c6d-4a38-a13c-cc6a75605510",
   "metadata": {},
   "source": [
    "#### Examine Expectations in GX Cloud"
   ]
  },
  {
   "cell_type": "markdown",
   "id": "d6d19025-2057-499b-a08f-ba0c24bd0476",
   "metadata": {},
   "source": [
    "Examine the newly added Expectations in the [GX Cloud UI](https://hubs.ly/Q02TyCZS0). You will see the GX Core-created Expectations under the **Cloud API** section."
   ]
  },
  {
   "cell_type": "code",
   "execution_count": null,
   "id": "56b3151f-1c24-41cb-b35f-87a2423f395d",
   "metadata": {},
   "outputs": [],
   "source": [
    "IPython.display.Image(\n",
    "    \"img/screencaptures/cookbook3_expectations_added.png\",\n",
    "    alt=\"GX Cloud display of Expectations added using GX Core\",\n",
    "    width=800,\n",
    ")"
   ]
  },
  {
   "cell_type": "markdown",
   "id": "0c0c04f5-df57-418b-81c7-3c768ecae3d3",
   "metadata": {},
   "source": [
    "### Validate the sample data"
   ]
  },
  {
   "cell_type": "markdown",
   "id": "2230c2b3-fcb2-4fef-90da-d37a201402f2",
   "metadata": {},
   "source": [
    "The GX workflow configuration is now persisted in your GX Cloud organization, accessible via the Cloud Data Context. Run the Checkpoint to validate the sample customer profile data, and then explore the Validation Results in GX Cloud."
   ]
  },
  {
   "cell_type": "markdown",
   "id": "7b131c6c-1b84-49a1-b4db-235cde367e6c",
   "metadata": {},
   "source": [
    "#### Run the Checkpoint"
   ]
  },
  {
   "cell_type": "markdown",
   "id": "7c6a75df-a2a6-49da-bd37-7845db071425",
   "metadata": {},
   "source": [
    "Run the Checkpoint to validate the sample data."
   ]
  },
  {
   "cell_type": "code",
   "execution_count": null,
   "id": "49254f07-43a8-442e-9e53-f0766af2014d",
   "metadata": {},
   "outputs": [],
   "source": [
    "checkpoint_result = checkpoint.run()"
   ]
  },
  {
   "cell_type": "markdown",
   "id": "dc841323-0ee6-4c59-9338-7108452f491b",
   "metadata": {},
   "source": [
    "#### View results in GX Cloud"
   ]
  },
  {
   "cell_type": "markdown",
   "id": "46d736a0-27bb-4fe2-955c-f81d9fd50abe",
   "metadata": {},
   "source": [
    "The Validation Result object can be extracted from the returned Checkpoint Result object. When produced using a Cloud Data Context, the Validation Result object provides a `result_url` field that contains a direct link to your Validation Results in GX Cloud."
   ]
  },
  {
   "cell_type": "code",
   "execution_count": null,
   "id": "7285461e-5d05-46a1-a9fe-b75657059b31",
   "metadata": {},
   "outputs": [],
   "source": [
    "validation_result = checkpoint_result.run_results[\n",
    "    list(checkpoint_result.run_results.keys())[0]\n",
    "]\n",
    "\n",
    "print(\n",
    "    f\"Click this link to view your Validation Results in GX Cloud:\\n\\n{validation_result.result_url}\"\n",
    ")"
   ]
  },
  {
   "cell_type": "code",
   "execution_count": null,
   "id": "eb9ed37e-cd2d-4067-b12d-856752107b1f",
   "metadata": {},
   "outputs": [],
   "source": [
    "IPython.display.Image(\n",
    "    \"img/screencaptures/cookbook3_linked_validation_results.png\",\n",
    "    alt=\"Validation Results of Expectations against sample customer profile data\",\n",
    "    width=800,\n",
    ")"
   ]
  },
  {
   "cell_type": "markdown",
   "id": "63b45be0-92a4-4696-bce8-4ac0f2b12f7c",
   "metadata": {},
   "source": [
    "The Validation Results for the `Customer profile expectations` suite inform you that three out of four Expectations passed. The Expectation that the standard deviation of customer annual income is 10k failed - the results indicate that the observed standard deviation is slightly lower, about $9.6k.\n",
    "\n",
    "For the purposes of this tutorial, it is important that an Expectation failed, rather than why it failed, so that you can experience the exploration of both passing and failing results in GX Cloud."
   ]
  },
  {
   "cell_type": "markdown",
   "id": "677cce11-403c-42fb-9b39-55c4bffcc789",
   "metadata": {},
   "source": [
    "## Integrate GX Cloud validation in the Airflow DAG"
   ]
  },
  {
   "cell_type": "markdown",
   "id": "a7e0f1c7-24d9-445c-a421-95abb01044a4",
   "metadata": {},
   "source": [
    "You have run data validation from this notebook, next, you will run data validation within an Airflow DAG."
   ]
  },
  {
   "cell_type": "markdown",
   "id": "79e46ae6-a26c-488a-ba45-9a370e2a7cea",
   "metadata": {},
   "source": [
    "### Inspect DAG code"
   ]
  },
  {
   "cell_type": "markdown",
   "id": "86b337ba-fa05-43a9-abab-3c163c7fd7a6",
   "metadata": {},
   "source": [
    "Examine the DAG code below that defines the `cookbook3_validate_postgres_table_data` pipeline. The key actions of the code are:\n",
    "* Fetch and run the GX Cloud Checkpoint.\n",
    "\n",
    "   ```\n",
    "   context = gx.get_context()\n",
    " \n",
    "   checkpoint = context.checkpoints.get(\"Customer profile checkpoint\")\n",
    "   \n",
    "   checkpoint_result = checkpoint.run()\n",
    "   ```\n",
    "\n",
    "   * Note that the code assumes that the GX Cloud credentials have been made available in the Airflow environment so that `gx.get_context()` returns a Cloud Data Context.\n",
    "   * This code snippet, customized for your desired Checkpoint, can be retrieved from GX Cloud using the validation code snippet feature. See the next section of this cookbook for more detail.\n",
    "\n",
    "* Extract and log the result of validation and GX Cloud results url.\n",
    "\n",
    "   ```\n",
    "    validation_result = checkpoint_result.run_results[\n",
    "        list(checkpoint_result.run_results.keys())[0]\n",
    "    ]\n",
    "\n",
    "    if validation_result[\"success\"]:\n",
    "        log.info(f\"Validation succeeded: {validation_result.result_url}\")\n",
    "    else:\n",
    "        log.warning(f\"Validation failed: {validation_result.result_url}\")\n",
    "   ```"
   ]
  },
  {
   "cell_type": "code",
   "execution_count": null,
   "id": "8e772c8e-c3cc-421b-880a-65e1eb264ec2",
   "metadata": {},
   "outputs": [],
   "source": [
    "%pycat inspect.getsource(dag)"
   ]
  },
  {
   "cell_type": "markdown",
   "id": "071211ea-dfc3-476c-a159-dcd6c7f14c03",
   "metadata": {},
   "source": [
    "### GX Cloud validation code snippet"
   ]
  },
  {
   "cell_type": "markdown",
   "id": "c63aeccb-f94b-4fab-a63e-ce7396fb6a32",
   "metadata": {},
   "source": [
    "GX Cloud will generate a validation code snippet, which provides the code needed to run a GX Cloud Checkpoint using GX Core. The validation code snippet can be copy-pasted within an Airflow DAG to trigger a Checkpoint run. \n",
    "\n",
    "1. Navigate to the Validations tab of your Data Asset.\n",
    "2. Click the **Use code snippet** button `</>` directly to the right of the **Validate** button.\n",
    "3. Click **Generate Snippet**.\n",
    "\n",
    "This displays the Validation Expectations dialog box, which contains a GX Core 1.0.x code snippet that has been populated with the name of your Checkpoint. For instance, for the Checkpoint created by this cookbook, you'll see the following snippet:\n",
    "```\n",
    "import great_expectations as gx\n",
    "\n",
    "context = gx.get_context()\n",
    "\n",
    "checkpoint = context.checkpoints.get(\"Customer profile checkpoint\")\n",
    "\n",
    "checkpoint.run()\n",
    "```"
   ]
  },
  {
   "cell_type": "code",
   "execution_count": null,
   "id": "5a3f22b2-aacf-474e-bb5b-e54f883915ee",
   "metadata": {},
   "outputs": [],
   "source": [
    "IPython.display.Image(\n",
    "    \"img/screencaptures/cookbook3_validation_code_snippet.png\",\n",
    "    alt=\"Generate the validation code snippet in GX Cloud\",\n",
    "    width=800,\n",
    ")"
   ]
  },
  {
   "cell_type": "markdown",
   "id": "67714d1d-9f72-4774-8657-96a80dbac573",
   "metadata": {},
   "source": [
    "### View the Airflow pipeline"
   ]
  },
  {
   "cell_type": "markdown",
   "id": "b0ddda5e-86a7-438a-96a0-05bf11094a33",
   "metadata": {},
   "source": [
    "To view the `cookbook3_validate_postgres_table_data` pipeline in the Airflow UI, log into the locally running Airflow instance.\n",
    "\n",
    "1. Open [http://localhost:8080/](http://localhost:8080/) in a browser window.\n",
    "2. Log in with these credentials:\n",
    "  * Username: `admin`\n",
    "  * Password: `gx`\n",
    "\n",
    "You will see the pipeline under **DAGs** on login."
   ]
  },
  {
   "cell_type": "code",
   "execution_count": null,
   "id": "69223c27-7561-407d-8b10-aa8d41e62a02",
   "metadata": {},
   "outputs": [],
   "source": [
    "IPython.display.Video(\"img/screencaptures/log_in_to_airflow.mp4\")"
   ]
  },
  {
   "cell_type": "markdown",
   "id": "626c5552-7eaf-48c1-a826-d8de945c2b05",
   "metadata": {},
   "source": [
    "### Trigger the pipeline"
   ]
  },
  {
   "cell_type": "markdown",
   "id": "457b3d38-8a31-41fc-9f5c-5565d700a649",
   "metadata": {},
   "source": [
    "You can trigger the DAG from this notebook, using the provided convenience function in the cell below, or you can trigger the DAG manually in the Airflow UI."
   ]
  },
  {
   "cell_type": "code",
   "execution_count": null,
   "id": "062e6a9c-1b4f-428e-b63c-1a63918e5043",
   "metadata": {},
   "outputs": [],
   "source": [
    "tutorial.airflow.trigger_airflow_dag_and_wait_for_run(\n",
    "    \"cookbook3_validate_postgres_table_data\"\n",
    ")"
   ]
  },
  {
   "cell_type": "markdown",
   "id": "6f4df322-4c59-4d1c-8e88-e5e985c7a61a",
   "metadata": {},
   "source": [
    "To trigger the `cookbook3_validate_postgres_table_data` DAG from the Airflow UI, click the **Trigger DAG** button (with a play icon) under *Actions*. This will queue the DAG and it will execute shortly. The successful run is indicated by the run count inside the green circle under **Runs**. The triggering of a similar DAG is shown in the clip below."
   ]
  },
  {
   "cell_type": "code",
   "execution_count": null,
   "id": "071b220a-c00e-4e8d-9679-ef91fc3d3924",
   "metadata": {},
   "outputs": [],
   "source": [
    "IPython.display.Video(\"img/screencaptures/trigger_airflow_dag.mp4\")"
   ]
  },
  {
   "cell_type": "markdown",
   "id": "85aada4c-b5e4-42a5-867c-abd240d9a826",
   "metadata": {},
   "source": [
    "The `cookbook3_validate_postgres_table_data` DAG can be rerun multiple times; you can experiment with running it from this notebook or from the Airflow UI. "
   ]
  },
  {
   "cell_type": "markdown",
   "id": "99eeac06-b9d2-4dfa-b0ff-e850b0371641",
   "metadata": {},
   "source": [
    "### View pipeline results"
   ]
  },
  {
   "cell_type": "markdown",
   "id": "d4031466-322c-40f1-b4dc-288c987f008f",
   "metadata": {},
   "source": [
    "Once the pipeline has been run, Validation Results are available in GX Cloud. You can either go directly to the GX Cloud UI, or access the link from the pipeline logs. To access the pipeline run logs in the Airflow UI:\n",
    "\n",
    "1. On the DAGs screen, click on the run(s) of interest under Runs.\n",
    "2. Click the name of the individual run you want to examine. This will load the DAG execution details.\n",
    "3. Click the Graph tab, and then the `cookbook3_validate_postgres_table_data` task box on the visual rendering.\n",
    "4. Click the Logs tab to load the DAG logs. The link to the GX Cloud results will be in the log output."
   ]
  },
  {
   "cell_type": "code",
   "execution_count": null,
   "id": "37ec8514-7a09-48df-9af6-456c2ed15439",
   "metadata": {},
   "outputs": [],
   "source": [
    "IPython.display.Video(\n",
    "    \"img/screencaptures/cookbook3_view_pipeline_results.mp4\", width=1000\n",
    ")"
   ]
  },
  {
   "cell_type": "markdown",
   "id": "6c550b7e-7d40-4327-b414-0a4b5eb8af8e",
   "metadata": {},
   "source": [
    "## Review and take action on validation results in GX Cloud"
   ]
  },
  {
   "cell_type": "markdown",
   "id": "b4e9fee2-4bf2-466f-90ea-9e46a834f611",
   "metadata": {},
   "source": [
    "### Review validation results"
   ]
  },
  {
   "cell_type": "markdown",
   "id": "051d2660-dff1-45d0-8272-57ad3d0ac553",
   "metadata": {},
   "source": [
    "When you integrate data validation into your pipeline using GX, GX Cloud provides a central UI to review and share validation results; result output is not limited to pipeline log messages.\n",
    "\n",
    "Data validation results are shown in GX Cloud on the **Validations** tab of a Data Asset. You can access these results using a direct link (as shown in this cookbook), or by navigating within the GX Cloud UI.\n",
    "\n",
    "In addition to the results of individual runs, the Validations tab provides a historical view of your data validation results over multiple runs. This consolidated view contributes to an improved understanding and monitoring of your Data Asset health and quality over time, rather than relying on point-in-time assessments of data quality."
   ]
  },
  {
   "cell_type": "code",
   "execution_count": null,
   "id": "bc9b0693-74ef-4c20-9a1a-137e4b0fad96",
   "metadata": {},
   "outputs": [],
   "source": [
    "IPython.display.Image(\n",
    "    \"img/screencaptures/cookbook3_gx_cloud_validations_tab_over_time.png\",\n",
    "    alt=\"GX Cloud Validations tab actions: Alert, Share, Validate\",\n",
    "    width=800,\n",
    ")"
   ]
  },
  {
   "cell_type": "markdown",
   "id": "1ce4d218-84e5-45ef-8472-21cb3819eefd",
   "metadata": {},
   "source": [
    "### Take action on validation results"
   ]
  },
  {
   "cell_type": "markdown",
   "id": "cea66a1c-cc37-486d-b860-ae404773c7ca",
   "metadata": {},
   "source": [
    "GX Cloud enables you to take action on results generated by validation in your data pipeline. The key capabilities are Alerting, Sharing, and in-app triggering of Validation."
   ]
  },
  {
   "cell_type": "code",
   "execution_count": null,
   "id": "73149b43-c17f-46eb-8580-d5ef360476a9",
   "metadata": {},
   "outputs": [],
   "source": [
    "IPython.display.Image(\n",
    "    \"img/screencaptures/cookbook3_gx_cloud_validations_tab_actions.png\",\n",
    "    alt=\"GX Cloud Validations tab actions: Alert, Share, Validate\",\n",
    "    width=400,\n",
    ")"
   ]
  },
  {
   "cell_type": "markdown",
   "id": "bca8befb-f7cc-4f93-a2d1-380d19a66f6b",
   "metadata": {},
   "source": [
    "Alerting is enabled by default on newly created Data Assets. If any Validations fail, then you will receive an email that notifies you of the failure and provides a direct link to the failing validation run."
   ]
  },
  {
   "cell_type": "code",
   "execution_count": null,
   "id": "0b62ea5d-01f9-47bc-8cc0-87f0bcadb211",
   "metadata": {},
   "outputs": [],
   "source": [
    "IPython.display.Image(\n",
    "    \"img/screencaptures/cookbook3_validation_failure_email_alert.png\",\n",
    "    alt=\"GX Cloud email alert for data validation failure\",\n",
    "    width=800,\n",
    ")"
   ]
  },
  {
   "cell_type": "markdown",
   "id": "38fd6907-ecf4-4d8a-a21b-9865b4bf0de0",
   "metadata": {},
   "source": [
    "Results can easily be shared with others in your organization. Once individuals have been [added to your GX Cloud organization](https://docs.greatexpectations.io/docs/cloud/users/manage_users#invite-a-user), then you can provide a Share link that takes them directly to the validation run of interest.\n",
    "\n",
    "Validation can be triggered manually from the GX Cloud UI, enabling data developers and other stakeholders to revalidate data without needing to modify the existing data pipeline operation."
   ]
  },
  {
   "cell_type": "markdown",
   "id": "d2287d93-7f56-4500-8c49-bc1c86da2aa0",
   "metadata": {},
   "source": [
    "## Summary"
   ]
  },
  {
   "cell_type": "markdown",
   "id": "2c324f39-d6cc-484f-81b0-c50663075459",
   "metadata": {},
   "source": [
    "This cookbook has walked you through the process of defining a validation workflow with GX Core, persisting the worfklow configuration in GX Cloud, integrating data validation in an Airflow pipeline, and then accessing and taking action on validation results in GX Cloud.\n",
    "\n",
    "[Cookbook 1](Cookbook_1_Validate_data_during_ingestion_happy_path.ipynb), [Cookbook 2](Cookbook_2_Validate_data_during_ingestion_take_action_on_failures.ipynb), and Cookbook 3 (this cookbook) have demonstrated how you can integrate data validation in a Python-enabled orchestrator using GX. While the cookbook examples have used Airflow DAGs, the same principles will apply when using GX in other orchestrators, such as Dagster, Prefect, or any other orchestrator that supports Python code."
   ]
  },
  {
   "cell_type": "code",
   "execution_count": null,
   "id": "b6f26a99-b688-41a0-9141-3b29fc582c9e",
   "metadata": {},
   "outputs": [],
   "source": []
  }
 ],
 "metadata": {
  "kernelspec": {
   "display_name": "Python 3 (ipykernel)",
   "language": "python",
   "name": "python3"
  },
  "language_info": {
   "codemirror_mode": {
    "name": "ipython",
    "version": 3
   },
   "file_extension": ".py",
   "mimetype": "text/x-python",
   "name": "python",
   "nbconvert_exporter": "python",
   "pygments_lexer": "ipython3",
   "version": "3.11.11"
  }
 },
 "nbformat": 4,
 "nbformat_minor": 5
}
