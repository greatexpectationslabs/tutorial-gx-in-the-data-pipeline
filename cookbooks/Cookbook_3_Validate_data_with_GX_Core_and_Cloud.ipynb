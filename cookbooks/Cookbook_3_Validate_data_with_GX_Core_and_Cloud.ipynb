{
 "cells": [
  {
   "cell_type": "markdown",
   "id": "dd673504-2605-4d77-810e-ba6295b50767",
   "metadata": {},
   "source": [
    "# Cookbook 3: Validate data with GX Core and GX Cloud"
   ]
  },
  {
   "cell_type": "markdown",
   "id": "062a9fb2-e2ff-4842-b8b3-edab541c9231",
   "metadata": {},
   "source": [
    "This cookbook showcases a data validation workflow characteristic of vetting existing data in an organization's data stores. It could be representative of two groups within an organization enforcing a publisher-subscriber data contract, or users ensuring that data meets the requirements for its intended use.\n",
    "\n",
    "[Cookbook 1](Cookbook_1_Validate_data_during_ingestion_happy_path.ipynb) and [Cookbook 2](Cookbook_2_Validate_data_during_ingestion_take_action_on_failures.ipynb) explored GX Core workflows that were run within a data pipeline, orchestrated by Airflow. This cookbook introduces [GX Cloud](https://greatexpectations.io/gx-cloud) as an additional tool to store and visualize data validation results and features a hybrid workflow using GX Core, GX Cloud, and Airflow.\n",
    "\n",
    "This cookbook builds on [Cookbook 1: Validate data during ingestion (happy path)](Cookbook_1_Validate_data_during_ingestion_happy_path.ipynb) and [Cookbook 2: Validate data during ingestion (take action on failures)](Cookbook_2_Validate_data_during_ingestion_take_action_on_failures.ipynb) and focuses on how data validation failures can be programmatically handled in the pipeline based on GX Validation Results. This cookbook assumes basic familiarity with GX Core workflows; for a step-by-step explanation of the GX data validation workflow, refer to [Cookbook 1](Cookbook_1_Validate_data_during_ingestion_happy_path.ipynb) and [Cookbook 2](Cookbook_2_Validate_data_during_ingestion_take_action_on_failures.ipynb)."
   ]
  },
  {
   "cell_type": "markdown",
   "id": "3aacfc44-2bc0-4b86-922e-ef8f59da245c",
   "metadata": {},
   "source": [
    "## Imports"
   ]
  },
  {
   "cell_type": "markdown",
   "id": "cd1f9b7c-0981-4aab-8009-0b0e3ae89206",
   "metadata": {},
   "source": [
    "The GX Core content of this cookbook uses the `great_expectations` library.\n",
    "\n",
    "The `tutorial_code` module contains helper functions used within this notebook and the associated Airflow pipeline.\n",
    "\n",
    "The `airflow_dags` submodule is included so that you can inspect the code used in the related Airflow DAG directly from this notebook."
   ]
  },
  {
   "cell_type": "code",
   "execution_count": null,
   "id": "325d6882-fb77-4130-96bb-ba32ca9d206a",
   "metadata": {},
   "outputs": [],
   "source": [
    "import os\n",
    "\n",
    "import great_expectations as gx\n",
    "import great_expectations.expectations as gxe\n",
    "import IPython\n",
    "import pandas as pd\n",
    "\n",
    "import tutorial_code as tutorial\n",
    "import airflow_dags.cookbook2_validate_and_handle_invalid_data as dag"
   ]
  },
  {
   "cell_type": "markdown",
   "id": "3ec6e7a4-d907-448d-8102-74dfd4c95643",
   "metadata": {},
   "source": [
    "## The GX data quality platform"
   ]
  },
  {
   "cell_type": "markdown",
   "id": "5bfa2858-c426-4cde-919b-78dfd21f586c",
   "metadata": {},
   "source": [
    "The Great Expectations data quality platform is comprised by:\n",
    "* [GX Cloud](https://greatexpectations.io/gx-cloud), a fully managed SaaS solution, with web portal, and\n",
    "* [GX Core](https://github.com/great-expectations/great_expectations), the open source Python framework.\n",
    "\n",
    "GX Cloud and GX Core can be used separately for a cloud-only or programmatic-only approach ([Cookbook 1](Cookbook_1_Validate_data_during_ingestion_happy_path.ipynb) and [Cookbook 2](Cookbook_2_Validate_data_during_ingestion_take_action_on_failures.ipynb) are an example of a Core-only workflow). However, using GX Core and GX Cloud *together* provides a solution in which GX Cloud serves as a single source of truth for data quality definition and application, and GX Core enables flexible integration of data validation into existing data stacks. Together, GX Cloud and GX Core enable you to achieve data quality definition, monitoring, and management using UI-based workflows, programmatic workflows, or hybrid workflows.\n",
    "\n",
    "The diagram below depicts different ways you might opt to use the platform (but is not exhaustive):"
   ]
  },
  {
   "cell_type": "code",
   "execution_count": null,
   "id": "f879ae7d-f3cb-43a2-b999-81c9635e7521",
   "metadata": {},
   "outputs": [],
   "source": [
    "IPython.display.Image(\"img/diagrams/gx_cloud_core_architecture.png\", width=900)"
   ]
  },
  {
   "cell_type": "markdown",
   "id": "b1a3b8e3-8517-41d6-ad7a-312b36089645",
   "metadata": {},
   "source": [
    "## Cookbook workflow"
   ]
  },
  {
   "cell_type": "markdown",
   "id": "f2148bb7-f05c-4add-9626-f9ee55f8f56a",
   "metadata": {},
   "source": [
    "In this cookbook, you will use GX Core, GX Cloud, and Airflow to define data quality for sample data, run data validation, and explore the results of data validation.\n",
    "1. Define your Data Asset and Expectations programmatically with GX Core\n",
    "2. Store the GX workflow configuration in your GX Cloud organization\n",
    "3. Trigger data validation from an Airflow pipeline\n",
    "4. Explore data validation results in GX Cloud\n",
    "\n",
    "\n",
    "![Cookbook 3 workflow](https://placehold.co/600x300 \"Cookbook 3 workflow\")"
   ]
  },
  {
   "cell_type": "markdown",
   "id": "5977a409-94b4-4780-a0e0-33380d0c307b",
   "metadata": {},
   "source": [
    "## Verify GX Cloud credentials are defined"
   ]
  },
  {
   "cell_type": "markdown",
   "id": "4bcf5476-4b69-47cc-85cc-f7e0d8ea75b3",
   "metadata": {},
   "source": [
    "This cookbook persists validation results to GX Cloud, and requires that valid GX Cloud organization credentials are provided."
   ]
  },
  {
   "cell_type": "code",
   "execution_count": null,
   "id": "f1bb3e9a-0732-4d43-b295-4880cd280302",
   "metadata": {},
   "outputs": [],
   "source": [
    "tutorial.cloud.check_for_gx_cloud_credentials_exist()"
   ]
  },
  {
   "cell_type": "markdown",
   "id": "cd67cea1-fedc-47df-bd9b-2929e795f893",
   "metadata": {},
   "source": [
    "```{warning} GX Cloud credential error\n",
    "If `tutorial.cloud.check_for_gx_cloud_credentials_exist()` rasies a `ValueError` indicating that `GX_CLOUD_ORGANIZATION_ID` or `GX_CLOUD_ACCESS_TOKEN` is undefined, ensure that you have provided your GX Cloud organization id and access token when starting Docker compose.\n",
    "```"
   ]
  },
  {
   "cell_type": "markdown",
   "id": "d7c234c5-8b4f-4e51-8679-f74c4db01252",
   "metadata": {},
   "source": [
    "## Examine source data"
   ]
  },
  {
   "cell_type": "code",
   "execution_count": null,
   "id": "7e1e65e6-f444-4eff-bea5-1e9076fbec42",
   "metadata": {},
   "outputs": [],
   "source": [
    "pd.read_sql_query(\n",
    "    \"select * from customer_profile limit 5\", con=tutorial.db.get_cloud_postgres_engine()\n",
    ")"
   ]
  },
  {
   "cell_type": "markdown",
   "id": "a37b304c-4dcb-411f-82cc-a7f4ac9fd039",
   "metadata": {},
   "source": [
    "## Determine Expectations/data tests"
   ]
  },
  {
   "cell_type": "code",
   "execution_count": null,
   "id": "0d1b6598-14f0-465a-bf61-7ef2ddb1638e",
   "metadata": {},
   "outputs": [],
   "source": []
  },
  {
   "cell_type": "markdown",
   "id": "d5df7aad-9e2a-45bc-9e81-474232771cb0",
   "metadata": {},
   "source": [
    "## GX validation workflow"
   ]
  },
  {
   "cell_type": "markdown",
   "id": "c74f5862-16bc-47c9-8841-1d2983f40709",
   "metadata": {},
   "source": [
    "### Ephemeral and Cloud Data Contexts"
   ]
  },
  {
   "cell_type": "markdown",
   "id": "9bc6ab83-befc-447a-b4c6-d220251d25a5",
   "metadata": {},
   "source": [
    "All GX workflows start with the creation of a Data Context. A Data Context is the Python object that serves as an entrypoint for the GX Core Python library, and it also manages the settings and metadata for your GX workflow.\n",
    "\n",
    "* An **Ephemeral Data Context** stores the configuration of your GX workflow in memory.\n",
    "\n",
    "  ```\n",
    "  context = gx.get_context(mode=\"ephemeral\")\n",
    "  ```\n",
    "\n",
    "* A **Cloud Data Context** stores the configuration of your GX workflow in GX Cloud. When creating a Cloud Data Context, you need to provide credentials for the specific GX Cloud organization that you want to use.\n",
    "\n",
    "  ```\n",
    "  context = gx.get_context(\n",
    "      mode=\"cloud\",\n",
    "      cloud_organization_id=\"<my-gx-cloud-org-id>\",\n",
    "      cloud_access_token=\"<my-gx-cloud-access-token>\"\n",
    "  )\n",
    "  ```"
   ]
  },
  {
   "cell_type": "markdown",
   "id": "c7d73158-3222-44bf-9266-0a8232ee1085",
   "metadata": {},
   "source": [
    "The `gx.get_context()` call will auto-discover your GX Cloud organization id and access token credentials if they are available as the `GX_CLOUD_ORGANIZATION_ID` and `GX_CLOUD_ACCESS_TOKEN` environment variables, respectively."
   ]
  },
  {
   "cell_type": "code",
   "execution_count": null,
   "id": "2f4cecbf-d9cc-4303-8380-7fff3939f303",
   "metadata": {},
   "outputs": [],
   "source": [
    "context = gx.get_context()\n",
    "\n",
    "if (os.getenv(\"GX_CLOUD_ORGANIZATION_ID\", None) is not None) and (os.getenv(\"GX_CLOUD_ACCESS_TOKEN\", None) is not None):\n",
    "    assert isinstance(context, gx.data_context.CloudDataContext)\n",
    "    print(\"GX Cloud credentials found, created CloudDataContext.\")"
   ]
  },
  {
   "cell_type": "code",
   "execution_count": null,
   "id": "f467677c-9c4f-47c7-9419-506a419dd2a5",
   "metadata": {},
   "outputs": [],
   "source": []
  }
 ],
 "metadata": {
  "kernelspec": {
   "display_name": "Python 3 (ipykernel)",
   "language": "python",
   "name": "python3"
  },
  "language_info": {
   "codemirror_mode": {
    "name": "ipython",
    "version": 3
   },
   "file_extension": ".py",
   "mimetype": "text/x-python",
   "name": "python",
   "nbconvert_exporter": "python",
   "pygments_lexer": "ipython3",
   "version": "3.11.11"
  }
 },
 "nbformat": 4,
 "nbformat_minor": 5
}
